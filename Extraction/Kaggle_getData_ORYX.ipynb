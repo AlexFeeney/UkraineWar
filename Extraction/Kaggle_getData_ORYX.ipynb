{
 "cells": [
  {
   "cell_type": "code",
   "execution_count": null,
   "metadata": {},
   "outputs": [],
   "source": [
    "#Author: Alex Feeney\n",
    "#Date: 19/11/2004\n",
    "#Description, get oryx data from kaggle api. \n",
    "\n",
    "#Source: https://www.kaggle.com/datasets/piterfm/2022-ukraine-russia-war-equipment-losses-oryx?select=img_russia"
   ]
  },
  {
   "cell_type": "code",
   "execution_count": 1,
   "metadata": {},
   "outputs": [],
   "source": [
    "#import modules \n",
    "import os, configparser\n",
    "from kaggle.api.kaggle_api_extended import KaggleApi\n",
    "\n"
   ]
  },
  {
   "cell_type": "code",
   "execution_count": 5,
   "metadata": {},
   "outputs": [
    {
     "data": {
      "text/plain": [
       "[]"
      ]
     },
     "execution_count": 5,
     "metadata": {},
     "output_type": "execute_result"
    }
   ],
   "source": [
    "#Read Config file\n",
    "config = configparser.ConfigParser()\n",
    "config.read('config.config')\n"
   ]
  },
  {
   "cell_type": "code",
   "execution_count": 8,
   "metadata": {},
   "outputs": [
    {
     "name": "stdout",
     "output_type": "stream",
     "text": [
      "Dataset URL: https://www.kaggle.com/datasets/piterfm/2022-ukraine-russia-war-equipment-losses-oryx\n",
      "Dataset downloaded and unzipped to None\n"
     ]
    }
   ],
   "source": [
    "\n",
    "\n",
    "# get the kaggle api credentials from local machine. \n",
    "os.environ['KAGGLE_CONFIG_DIR'] = os.path.expanduser('~/.kaggle')  \n",
    "\n",
    "#start the kaggle api connection \n",
    "api = KaggleApi()\n",
    "api.authenticate()\n",
    "\n",
    "#define source\n",
    "source_author = 'piterfm'\n",
    "source_dataset = '2022-ukraine-russia-war-equipment-losses-oryx'\n",
    "\n",
    "#define sink\n",
    "sink = config['DEFAULT'].get('sinkOryx')\n",
    "\n",
    "#get the dataset\n",
    "source = f'{source_author}/{source_dataset}'\n",
    "api.dataset_download_files(source, path='./data', unzip=True)\n",
    "\n",
    "\n",
    "print(f\"Dataset downloaded and unzipped to {sink}\")"
   ]
  },
  {
   "cell_type": "code",
   "execution_count": 3,
   "metadata": {},
   "outputs": [
    {
     "name": "stdout",
     "output_type": "stream",
     "text": [
      "Collecting kaggle\n",
      "  Downloading kaggle-1.6.17.tar.gz (82 kB)\n",
      "     ---------------------------------------- 0.0/82.7 kB ? eta -:--:--\n",
      "     -------------- ----------------------- 30.7/82.7 kB 660.6 kB/s eta 0:00:01\n",
      "     -------------------------------------- 82.7/82.7 kB 928.9 kB/s eta 0:00:00\n",
      "  Preparing metadata (setup.py): started\n",
      "  Preparing metadata (setup.py): finished with status 'done'\n",
      "Requirement already satisfied: six>=1.10 in c:\\users\\alexf\\anaconda3\\envs\\dev\\lib\\site-packages (from kaggle) (1.16.0)\n",
      "Requirement already satisfied: certifi>=2023.7.22 in c:\\users\\alexf\\anaconda3\\envs\\dev\\lib\\site-packages (from kaggle) (2023.11.17)\n",
      "Requirement already satisfied: python-dateutil in c:\\users\\alexf\\anaconda3\\envs\\dev\\lib\\site-packages (from kaggle) (2.8.2)\n",
      "Requirement already satisfied: requests in c:\\users\\alexf\\anaconda3\\envs\\dev\\lib\\site-packages (from kaggle) (2.31.0)\n",
      "Requirement already satisfied: tqdm in c:\\users\\alexf\\anaconda3\\envs\\dev\\lib\\site-packages (from kaggle) (4.65.0)\n",
      "Requirement already satisfied: python-slugify in c:\\users\\alexf\\anaconda3\\envs\\dev\\lib\\site-packages (from kaggle) (5.0.2)\n",
      "Requirement already satisfied: urllib3 in c:\\users\\alexf\\anaconda3\\envs\\dev\\lib\\site-packages (from kaggle) (1.26.18)\n",
      "Requirement already satisfied: bleach in c:\\users\\alexf\\anaconda3\\envs\\dev\\lib\\site-packages (from kaggle) (4.1.0)\n",
      "Requirement already satisfied: packaging in c:\\users\\alexf\\anaconda3\\envs\\dev\\lib\\site-packages (from bleach->kaggle) (23.1)\n",
      "Requirement already satisfied: webencodings in c:\\users\\alexf\\anaconda3\\envs\\dev\\lib\\site-packages (from bleach->kaggle) (0.5.1)\n",
      "Requirement already satisfied: text-unidecode>=1.3 in c:\\users\\alexf\\anaconda3\\envs\\dev\\lib\\site-packages (from python-slugify->kaggle) (1.3)\n",
      "Requirement already satisfied: charset-normalizer<4,>=2 in c:\\users\\alexf\\anaconda3\\envs\\dev\\lib\\site-packages (from requests->kaggle) (2.0.4)\n",
      "Requirement already satisfied: idna<4,>=2.5 in c:\\users\\alexf\\anaconda3\\envs\\dev\\lib\\site-packages (from requests->kaggle) (3.4)\n",
      "Requirement already satisfied: colorama in c:\\users\\alexf\\anaconda3\\envs\\dev\\lib\\site-packages (from tqdm->kaggle) (0.4.6)\n",
      "Building wheels for collected packages: kaggle\n",
      "  Building wheel for kaggle (setup.py): started\n",
      "  Building wheel for kaggle (setup.py): finished with status 'done'\n",
      "  Created wheel for kaggle: filename=kaggle-1.6.17-py3-none-any.whl size=105796 sha256=34606367cbc5ff288bfe98e776e17a48c6b8fefb52a20bc2b4d1337f41a308d9\n",
      "  Stored in directory: c:\\users\\alexf\\appdata\\local\\pip\\cache\\wheels\\9f\\af\\22\\bf406f913dc7506a485e60dce8143741abd0a92a19337d83a3\n",
      "Successfully built kaggle\n",
      "Installing collected packages: kaggle\n",
      "Successfully installed kaggle-1.6.17\n",
      "Note: you may need to restart the kernel to use updated packages.\n"
     ]
    }
   ],
   "source": [
    "pip install kaggle"
   ]
  }
 ],
 "metadata": {
  "kernelspec": {
   "display_name": "dev",
   "language": "python",
   "name": "python3"
  },
  "language_info": {
   "codemirror_mode": {
    "name": "ipython",
    "version": 3
   },
   "file_extension": ".py",
   "mimetype": "text/x-python",
   "name": "python",
   "nbconvert_exporter": "python",
   "pygments_lexer": "ipython3",
   "version": "3.10.13"
  }
 },
 "nbformat": 4,
 "nbformat_minor": 2
}
